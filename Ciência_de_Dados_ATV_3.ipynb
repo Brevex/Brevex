{
  "nbformat": 4,
  "nbformat_minor": 0,
  "metadata": {
    "colab": {
      "provenance": [],
      "authorship_tag": "ABX9TyPzlzFeHTW3NzedEu/YR9cE"
    },
    "kernelspec": {
      "name": "python3",
      "display_name": "Python 3"
    },
    "language_info": {
      "name": "python"
    }
  },
  "cells": [
    {
      "cell_type": "code",
      "execution_count": null,
      "metadata": {
        "id": "7dt0h1RDmPTx"
      },
      "outputs": [],
      "source": [
        "import pandas as pd\n",
        "import numpy as np"
      ]
    },
    {
      "cell_type": "code",
      "source": [
        "# Importando dados da planilha excel\n",
        "# o parâmetro opcional \"header\" deixa a linha do índice 0 como parte do header\n",
        "df_feio = pd.read_excel('/content/drive/MyDrive/cienciaDeDados_Arquivos/SalesData.xlsx', header=[0,1])\n",
        "\n",
        "# Imprimindo head da planilha com os dados desogarnizados\n",
        "df_feio"
      ],
      "metadata": {
        "id": "IXxIJewn72C9"
      },
      "execution_count": null,
      "outputs": []
    },
    {
      "cell_type": "code",
      "source": [
        "# Usando a função melt para mudar a orientação do data frame\n",
        "df_bonito = df_feio.melt(id_vars = [('Segment>>','Ship Mode>>')], var_name=['Segment','Ship Mode'], value_name='Sales')\n",
        "\n",
        "# Impressão de teste do data frame\n",
        "df_bonito.head()"
      ],
      "metadata": {
        "id": "3uTmReoY2w-o"
      },
      "execution_count": null,
      "outputs": []
    },
    {
      "cell_type": "code",
      "source": [
        "# Defininição das colunas e início da formatação\n",
        "df_bonito.columns = ['Order ID','Segment','Ship Mode','Sales']\n",
        "df_bonito.set_index('Order ID', inplace=True) \n",
        "\n",
        "# Impressão de teste do data frame\n",
        "df_bonito.head()"
      ],
      "metadata": {
        "id": "F67vIXDH3tcN"
      },
      "execution_count": null,
      "outputs": []
    },
    {
      "cell_type": "code",
      "source": [
        "# Remove todas as linhas de 'Sales' com valor nulo (ainda precisa de tratamento)\n",
        "df_bonito.dropna(how='any', subset=['Sales'], axis=0, inplace = True)"
      ],
      "metadata": {
        "id": "M7vq5xok4Fhb"
      },
      "execution_count": null,
      "outputs": []
    },
    {
      "cell_type": "code",
      "source": [
        "# Modelo final do data frame, sem 'Consumer Total', 'Corporate Total' e 'Home Office Total (removidos)\n",
        "varHeader = ['Consumer','Corporate','Home Office']\n",
        "df_bonito = df_bonito.loc[df_bonito['Segment'].isin(varHeader)]"
      ],
      "metadata": {
        "id": "aOrd8LzA4Qyj"
      },
      "execution_count": null,
      "outputs": []
    },
    {
      "cell_type": "code",
      "source": [
        "# Remove linha 'Grand Total' e reseta o índice \n",
        "df_bonito = df_bonito.loc[df_bonito.index != 'Grand Total']\n",
        "df_bonito.reset_index(inplace = True)"
      ],
      "metadata": {
        "id": "A0OI1Mt_4jdC"
      },
      "execution_count": null,
      "outputs": []
    },
    {
      "cell_type": "code",
      "source": [
        "# Organização final das colunas para impressão definitiva\n",
        "df_final = df_bonito[['Segment','Ship Mode','Order ID','Sales']]\n",
        "\n",
        "# Impressão do data frame formatado\n",
        "df_final"
      ],
      "metadata": {
        "id": "peuEDxaq42TJ"
      },
      "execution_count": null,
      "outputs": []
    }
  ]
}